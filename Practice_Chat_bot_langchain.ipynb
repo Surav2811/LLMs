{
 "cells": [
  {
   "cell_type": "code",
   "execution_count": 2,
   "id": "e4e2b50c-ccee-4f14-b0ee-aff8f366da7d",
   "metadata": {},
   "outputs": [
    {
     "ename": "AssertionError",
     "evalue": "To upload larger images, use the assets API (see docs)",
     "output_type": "error",
     "traceback": [
      "\u001b[1;31m---------------------------------------------------------------------------\u001b[0m",
      "\u001b[1;31mAssertionError\u001b[0m                            Traceback (most recent call last)",
      "Cell \u001b[1;32mIn[2], line 9\u001b[0m\n\u001b[0;32m      6\u001b[0m \u001b[38;5;28;01mwith\u001b[39;00m \u001b[38;5;28mopen\u001b[39m(\u001b[38;5;124mr\u001b[39m\u001b[38;5;124m\"\u001b[39m\u001b[38;5;124mC:\u001b[39m\u001b[38;5;124m\\\u001b[39m\u001b[38;5;124mUsers\u001b[39m\u001b[38;5;124m\\\u001b[39m\u001b[38;5;124msaurav.mishra\u001b[39m\u001b[38;5;124m\\\u001b[39m\u001b[38;5;124mOneDrive\u001b[39m\u001b[38;5;124m\\\u001b[39m\u001b[38;5;124mPictures\u001b[39m\u001b[38;5;124m\\\u001b[39m\u001b[38;5;124m319576-photography-landscape-nature-water-grass-trees-plants-sunrise-lake.jpg\u001b[39m\u001b[38;5;124m\"\u001b[39m, \u001b[38;5;124m\"\u001b[39m\u001b[38;5;124mrb\u001b[39m\u001b[38;5;124m\"\u001b[39m) \u001b[38;5;28;01mas\u001b[39;00m f:\n\u001b[0;32m      7\u001b[0m     image_b64 \u001b[38;5;241m=\u001b[39m base64\u001b[38;5;241m.\u001b[39mb64encode(f\u001b[38;5;241m.\u001b[39mread())\u001b[38;5;241m.\u001b[39mdecode()\n\u001b[1;32m----> 9\u001b[0m \u001b[38;5;28;01massert\u001b[39;00m \u001b[38;5;28mlen\u001b[39m(image_b64) \u001b[38;5;241m<\u001b[39m \u001b[38;5;241m180_000\u001b[39m, \\\n\u001b[0;32m     10\u001b[0m   \u001b[38;5;124m\"\u001b[39m\u001b[38;5;124mTo upload larger images, use the assets API (see docs)\u001b[39m\u001b[38;5;124m\"\u001b[39m\n\u001b[0;32m     12\u001b[0m headers \u001b[38;5;241m=\u001b[39m {\n\u001b[0;32m     13\u001b[0m   \u001b[38;5;124m\"\u001b[39m\u001b[38;5;124mAuthorization\u001b[39m\u001b[38;5;124m\"\u001b[39m: \u001b[38;5;124m\"\u001b[39m\u001b[38;5;124mBearer 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\u001b[39m\u001b[38;5;124m\"\u001b[39m,\n\u001b[0;32m     14\u001b[0m   \u001b[38;5;124m\"\u001b[39m\u001b[38;5;124mAccept\u001b[39m\u001b[38;5;124m\"\u001b[39m: \u001b[38;5;124m\"\u001b[39m\u001b[38;5;124mtext/event-stream\u001b[39m\u001b[38;5;124m\"\u001b[39m \u001b[38;5;28;01mif\u001b[39;00m stream \u001b[38;5;28;01melse\u001b[39;00m \u001b[38;5;124m\"\u001b[39m\u001b[38;5;124mapplication/json\u001b[39m\u001b[38;5;124m\"\u001b[39m\n\u001b[0;32m     15\u001b[0m }\n\u001b[0;32m     17\u001b[0m payload \u001b[38;5;241m=\u001b[39m {\n\u001b[0;32m     18\u001b[0m   \u001b[38;5;124m\"\u001b[39m\u001b[38;5;124mmessages\u001b[39m\u001b[38;5;124m\"\u001b[39m: [\n\u001b[0;32m     19\u001b[0m     {\n\u001b[1;32m   (...)\u001b[0m\n\u001b[0;32m     28\u001b[0m   \u001b[38;5;124m\"\u001b[39m\u001b[38;5;124mstream\u001b[39m\u001b[38;5;124m\"\u001b[39m: stream\n\u001b[0;32m     29\u001b[0m }\n",
      "\u001b[1;31mAssertionError\u001b[0m: To upload larger images, use the assets API (see docs)"
     ]
    }
   ],
   "source": [
    "import requests, base64\n",
    "\n",
    "invoke_url = \"https://ai.api.nvidia.com/v1/vlm/nvidia/neva-22b\"\n",
    "stream = True\n",
    "\n",
    "with open(\"path_to_image\", \"rb\") as f:\n",
    "    image_b64 = base64.b64encode(f.read()).decode()\n",
    "\n",
    "assert len(image_b64) < 180_000, \\\n",
    "  \"To upload larger images, use the assets API (see docs)\"\n",
    "\n",
    "headers = {\n",
    "  \"Authorization\": \"NVIDIA_API_KEY\",\n",
    "  \"Accept\": \"text/event-stream\" if stream else \"application/json\"\n",
    "}\n",
    "\n",
    "payload = {\n",
    "  \"messages\": [\n",
    "    {\n",
    "      \"role\": \"user\",\n",
    "      \"content\": f'Describe what you see in this image. <img src=\"data:image/jpg;base64,{image_b64}\" />'\n",
    "    }\n",
    "  ],\n",
    "  \"max_tokens\": 1024,\n",
    "  \"temperature\": 0.20,\n",
    "  \"top_p\": 0.70,\n",
    "  \"seed\": 0,\n",
    "  \"stream\": stream\n",
    "}\n",
    "\n",
    "response = requests.post(invoke_url, headers=headers, json=payload)\n",
    "\n",
    "if stream:\n",
    "    for line in response.iter_lines():\n",
    "        if line:\n",
    "            print(line.decode(\"utf-8\"))\n",
    "else:\n",
    "    print(response.json())\n"
   ]
  },
  {
   "cell_type": "code",
   "execution_count": 16,
   "id": "55e07071-4c30-46df-b57a-307aed4340f5",
   "metadata": {},
   "outputs": [
    {
     "name": "stdout",
     "output_type": "stream",
     "text": [
      "Full result:\n",
      "content='81 divided by 9 is:\\n\\n81 ÷ 9 = 9' additional_kwargs={} response_metadata={'model': 'llama3.1:8b', 'created_at': '2025-01-17T06:18:39.3634088Z', 'done': True, 'done_reason': 'stop', 'total_duration': 12622515600, 'load_duration': 7731257400, 'prompt_eval_count': 19, 'prompt_eval_duration': 2013000000, 'eval_count': 16, 'eval_duration': 2876000000, 'message': Message(role='assistant', content='', images=None, tool_calls=None)} id='run-ddb0d785-c74b-46e5-8826-ebda0fca7df9-0' usage_metadata={'input_tokens': 19, 'output_tokens': 16, 'total_tokens': 35}\n",
      "Content only:\n",
      "81 divided by 9 is:\n",
      "\n",
      "81 ÷ 9 = 9\n"
     ]
    }
   ],
   "source": [
    "from langchain_ollama import ChatOllama\n",
    "# Load environment variables from .env\n",
    "#load_dotenv()\n",
    "\n",
    "# Create a ChatOpenAI model\n",
    "#model = ChatOpenAI(model=\"gpt-4o\")\n",
    "model = ChatOllama(model = \"llama3.1:8b\", temperature = 0.3,)\n",
    "\n",
    "# Invoke the model with a message\n",
    "result = model.invoke(\"What is 81 divided by 9?\")\n",
    "print(\"Full result:\")\n",
    "print(result)\n",
    "print(\"Content only:\")\n",
    "print(result.content)\n"
   ]
  },
  {
   "cell_type": "code",
   "execution_count": 6,
   "id": "98d9d028-b7f2-4379-9741-a6add2baae6c",
   "metadata": {},
   "outputs": [
    {
     "name": "stdout",
     "output_type": "stream",
     "text": [
      "Answer from AI: ¿Cuánto es 81 dividido por 9?\n"
     ]
    }
   ],
   "source": [
    "from langchain_core.messages import AIMessage, HumanMessage, SystemMessage\n",
    "from langchain_ollama import ChatOllama\n",
    "model = ChatOllama(model = \"llama3.1:8b\", temperature = 0.4,)\n",
    "messages = [\n",
    "    SystemMessage(content=\"Translate the following question into Spanish. \"),\n",
    "    HumanMessage(content=\"What is 81 divided by 9?\"),\n",
    "]\n",
    "\n",
    "# Invoke the model with messages\n",
    "result = model.invoke(messages)\n",
    "print(f\"Answer from AI: {result.content}\")\n",
    "# chat_history.append(system_message)\n",
    "\n",
    "# # AIMessage:\n",
    "# #   Message from an AI.\n",
    "# messages = [\n",
    "#     SystemMessage(content=\"Solve the following math problems\"),\n",
    "#     HumanMessage(content=\"What is 81 divided by 9?\"),\n",
    "#     AIMessage(content=\"81 divided by 9 is 9.\"),\n",
    "#     HumanMessage(content=\"What is 10 times 5?\"),\n",
    "# ]\n",
    "\n",
    "# # Invoke the model with messages\n",
    "# result = model.invoke(messages)\n",
    "# print(f\"Answer from AI: {result.content}\")\n"
   ]
  },
  {
   "cell_type": "code",
   "execution_count": 9,
   "id": "d8de2cad-31bc-4651-b28f-654102e1db91",
   "metadata": {},
   "outputs": [
    {
     "name": "stdout",
     "output_type": "stream",
     "text": [
      "You:  hola\n"
     ]
    },
    {
     "name": "stdout",
     "output_type": "stream",
     "text": [
      "AI: Hola! It's lovely to meet you. How's your day going so far? Is there something on your mind that you'd like to chat about or is it just a pleasure to say hola?\n"
     ]
    },
    {
     "name": "stdout",
     "output_type": "stream",
     "text": [
      "You:  what are trends in Manufacturing sector?\n"
     ]
    },
    {
     "name": "stdout",
     "output_type": "stream",
     "text": [
      "AI: The manufacturing sector is constantly evolving, and I'm happy to share some of the current trends with you.\n",
      "\n",
      "**1. Industry 4.0**: Also known as the Fourth Industrial Revolution (4IR), this trend focuses on the integration of advanced technologies like AI, IoT, robotics, and data analytics to create smart factories that are more efficient, flexible, and connected.\n",
      "\n",
      "**2. Digital Transformation**: Manufacturers are adopting digital tools and platforms to streamline operations, improve supply chain management, and enhance product development. This includes the use of cloud computing, big data analytics, and cybersecurity measures.\n",
      "\n",
      "**3. Sustainability and Circular Economy**: Companies are shifting towards sustainable practices, reducing waste, and implementing circular economy models that minimize environmental impact while promoting resource efficiency.\n",
      "\n",
      "**4. Automation and Robotics**: With advancements in robotics and automation technologies, manufacturers are incorporating these solutions to optimize production processes, reduce labor costs, and enhance product quality.\n",
      "\n",
      "**5. Additive Manufacturing (3D Printing)**: This trend is gaining momentum as manufacturers explore the potential of 3D printing for creating complex parts, reducing material waste, and speeding up production timelines.\n",
      "\n",
      "**6. IoT and Predictive Maintenance**: The Internet of Things (IoT) enables real-time monitoring and predictive maintenance, allowing manufacturers to anticipate equipment failures\n"
     ]
    },
    {
     "name": "stdout",
     "output_type": "stream",
     "text": [
      "You:  what are your thoughts on Digital transformation. Give me pros and cons\n"
     ]
    },
    {
     "name": "stdout",
     "output_type": "stream",
     "text": [
      "AI: Digital transformation! It's a fascinating topic that's changing the way businesses operate. As a conversational AI, I've had the privilege of exploring various aspects of digital transformation with many organizations.\n",
      "\n",
      "**Pros:**\n",
      "\n",
      "1. **Increased Efficiency**: Digital transformation enables companies to automate manual tasks, streamline processes, and enhance productivity.\n",
      "2. **Improved Customer Experience**: By leveraging data analytics and cloud-based services, businesses can create personalized experiences for their customers, leading to higher satisfaction rates and loyalty.\n",
      "3. **Enhanced Innovation**: Digital technologies like AI, blockchain, and the Internet of Things (IoT) foster innovation, allowing companies to develop new products, services, and business models.\n",
      "4. **Cost Savings**: By reducing manual labor, minimizing errors, and optimizing resource utilization, digital transformation can lead to significant cost savings for organizations.\n",
      "5. **Competitive Advantage**: Companies that successfully undergo digital transformation tend to gain a competitive edge over their peers.\n",
      "\n",
      "**Cons:**\n",
      "\n",
      "1. **High Upfront Costs**: Implementing digital technologies can be expensive, requiring significant investments in infrastructure, training, and talent acquisition.\n",
      "2. **Integration Challenges**: Combining new systems with existing ones can lead to integration issues, data compatibility problems, and potential security risks.\n",
      "3. **Resistance to Change**:\n"
     ]
    },
    {
     "name": "stdout",
     "output_type": "stream",
     "text": [
      "You:  exit\n"
     ]
    },
    {
     "name": "stdout",
     "output_type": "stream",
     "text": [
      "Chatbot is exiting.....\n",
      "------------Chat History----------\n",
      "['You are very great at conversation and helpful.', HumanMessage(content='hola', additional_kwargs={}, response_metadata={}), AIMessage(content=\"Hola! It's lovely to meet you. How's your day going so far? Is there something on your mind that you'd like to chat about or is it just a pleasure to say hola?\", additional_kwargs={}, response_metadata={}), HumanMessage(content='what are trends in Manufacturing sector?', additional_kwargs={}, response_metadata={}), AIMessage(content=\"The manufacturing sector is constantly evolving, and I'm happy to share some of the current trends with you.\\n\\n**1. Industry 4.0**: Also known as the Fourth Industrial Revolution (4IR), this trend focuses on the integration of advanced technologies like AI, IoT, robotics, and data analytics to create smart factories that are more efficient, flexible, and connected.\\n\\n**2. Digital Transformation**: Manufacturers are adopting digital tools and platforms to streamline operations, improve supply chain management, and enhance product development. This includes the use of cloud computing, big data analytics, and cybersecurity measures.\\n\\n**3. Sustainability and Circular Economy**: Companies are shifting towards sustainable practices, reducing waste, and implementing circular economy models that minimize environmental impact while promoting resource efficiency.\\n\\n**4. Automation and Robotics**: With advancements in robotics and automation technologies, manufacturers are incorporating these solutions to optimize production processes, reduce labor costs, and enhance product quality.\\n\\n**5. Additive Manufacturing (3D Printing)**: This trend is gaining momentum as manufacturers explore the potential of 3D printing for creating complex parts, reducing material waste, and speeding up production timelines.\\n\\n**6. IoT and Predictive Maintenance**: The Internet of Things (IoT) enables real-time monitoring and predictive maintenance, allowing manufacturers to anticipate equipment failures\", additional_kwargs={}, response_metadata={}), HumanMessage(content='what are your thoughts on Digital transformation. Give me pros and cons', additional_kwargs={}, response_metadata={}), AIMessage(content=\"Digital transformation! It's a fascinating topic that's changing the way businesses operate. As a conversational AI, I've had the privilege of exploring various aspects of digital transformation with many organizations.\\n\\n**Pros:**\\n\\n1. **Increased Efficiency**: Digital transformation enables companies to automate manual tasks, streamline processes, and enhance productivity.\\n2. **Improved Customer Experience**: By leveraging data analytics and cloud-based services, businesses can create personalized experiences for their customers, leading to higher satisfaction rates and loyalty.\\n3. **Enhanced Innovation**: Digital technologies like AI, blockchain, and the Internet of Things (IoT) foster innovation, allowing companies to develop new products, services, and business models.\\n4. **Cost Savings**: By reducing manual labor, minimizing errors, and optimizing resource utilization, digital transformation can lead to significant cost savings for organizations.\\n5. **Competitive Advantage**: Companies that successfully undergo digital transformation tend to gain a competitive edge over their peers.\\n\\n**Cons:**\\n\\n1. **High Upfront Costs**: Implementing digital technologies can be expensive, requiring significant investments in infrastructure, training, and talent acquisition.\\n2. **Integration Challenges**: Combining new systems with existing ones can lead to integration issues, data compatibility problems, and potential security risks.\\n3. **Resistance to Change**:\", additional_kwargs={}, response_metadata={})]\n"
     ]
    }
   ],
   "source": [
    "model = ChatOllama(model = \"llama3.1:8b\", temperature = 0.7, num_predict = 256,)\n",
    "chat_history = []\n",
    "system_message = SystemMessage(content = \"You are very great at conversation and helpful.\")\n",
    "chat_history.append(system_message.content)\n",
    "\n",
    "while True:\n",
    "    query = input(\"You: \")\n",
    "    if (query.lower()==\"exit\"):\n",
    "        print(\"Chatbot is exiting.....\")\n",
    "        break\n",
    "    chat_history.append(HumanMessage(content=query))\n",
    "    result = model.invoke(chat_history)\n",
    "    print(f\"AI: {result.content}\")\n",
    "    chat_history.append(AIMessage(content=result.content))\n",
    "\n",
    "print(\"------------Chat History----------\")\n",
    "print(chat_history)\n",
    "    "
   ]
  },
  {
   "cell_type": "code",
   "execution_count": 11,
   "id": "cb665e26-da84-4de5-954b-dbbecbffb31b",
   "metadata": {},
   "outputs": [
    {
     "name": "stdout",
     "output_type": "stream",
     "text": [
      "-----Prompt from Template-----\n",
      "messages=[HumanMessage(content='Tell me a joke about cats.', additional_kwargs={}, response_metadata={})]\n"
     ]
    }
   ],
   "source": [
    "from langchain.prompts import ChatPromptTemplate\n",
    "\n",
    "template = \"Tell me a joke about {topic}.\"\n",
    "prompt_template = ChatPromptTemplate.from_template(template)\n",
    "\n",
    "print(\"-----Prompt from Template-----\")\n",
    "prompt = prompt_template.invoke({\"topic\": \"cats\"})\n",
    "print(prompt)"
   ]
  },
  {
   "cell_type": "code",
   "execution_count": 12,
   "id": "36fe7b67-3734-4d31-b882-8d1157b8a60d",
   "metadata": {},
   "outputs": [
    {
     "name": "stdout",
     "output_type": "stream",
     "text": [
      "\n",
      "----- Prompt with Multiple Placeholders -----\n",
      "\n",
      "messages=[HumanMessage(content='You are a helpful assistant.\\nHuman: Tell me a funny story about a panda.\\nAssistant:', additional_kwargs={}, response_metadata={})]\n"
     ]
    }
   ],
   "source": [
    "template_multiple = \"\"\"You are a helpful assistant.\n",
    "Human: Tell me a {adjective} story about a {animal}.\n",
    "Assistant:\"\"\"\n",
    "prompt_multiple = ChatPromptTemplate.from_template(template_multiple)\n",
    "prompt = prompt_multiple.invoke({\"adjective\": \"funny\", \"animal\": \"panda\"})\n",
    "print(\"\\n----- Prompt with Multiple Placeholders -----\\n\")\n",
    "print(prompt)"
   ]
  },
  {
   "cell_type": "code",
   "execution_count": 13,
   "id": "83205841-57f9-4753-8a8b-5419af46a6b1",
   "metadata": {},
   "outputs": [
    {
     "name": "stdout",
     "output_type": "stream",
     "text": [
      "\n",
      "----- Prompt with System and Human Messages (Tuple) -----\n",
      "\n",
      "messages=[SystemMessage(content='You are a comedian who tells jokes about lawyers.', additional_kwargs={}, response_metadata={}), HumanMessage(content='Tell me 3 jokes.', additional_kwargs={}, response_metadata={})]\n"
     ]
    }
   ],
   "source": [
    "messages = [\n",
    "    (\"system\", \"You are a comedian who tells jokes about {topic}.\"),\n",
    "    (\"human\", \"Tell me {joke_count} jokes.\"),\n",
    "]\n",
    "prompt_template = ChatPromptTemplate.from_messages(messages)\n",
    "prompt = prompt_template.invoke({\"topic\": \"lawyers\", \"joke_count\": 3})\n",
    "print(\"\\n----- Prompt with System and Human Messages (Tuple) -----\\n\")\n",
    "print(prompt)\n"
   ]
  }
 ],
 "metadata": {
  "kernelspec": {
   "display_name": "Python 3 (ipykernel)",
   "language": "python",
   "name": "python3"
  },
  "language_info": {
   "codemirror_mode": {
    "name": "ipython",
    "version": 3
   },
   "file_extension": ".py",
   "mimetype": "text/x-python",
   "name": "python",
   "nbconvert_exporter": "python",
   "pygments_lexer": "ipython3",
   "version": "3.12.2"
  }
 },
 "nbformat": 4,
 "nbformat_minor": 5
}
